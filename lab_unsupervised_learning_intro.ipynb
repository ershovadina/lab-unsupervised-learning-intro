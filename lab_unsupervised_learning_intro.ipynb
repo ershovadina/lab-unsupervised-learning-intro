{
 "cells": [
  {
   "cell_type": "code",
   "execution_count": 1,
   "metadata": {},
   "outputs": [],
   "source": [
    "import spotipy\n",
    "from spotipy.oauth2 import SpotifyClientCredentials\n",
    "import pandas as pd\n",
    "from tqdm.notebook import tqdm\n",
    "import getpass\n",
    "import math\n",
    "from collections import defaultdict\n",
    "import numpy as np"
   ]
  },
  {
   "cell_type": "code",
   "execution_count": 6,
   "metadata": {},
   "outputs": [
    {
     "name": "stdout",
     "output_type": "stream",
     "text": [
      "input client_id········\n",
      "input client_secret········\n"
     ]
    }
   ],
   "source": [
    "client_id = getpass.getpass(prompt='input client_id') \n",
    "client_secret = getpass.getpass(prompt='input client_secret')"
   ]
  },
  {
   "cell_type": "code",
   "execution_count": 7,
   "metadata": {},
   "outputs": [],
   "source": [
    "sp = spotipy.Spotify(auth_manager=SpotifyClientCredentials(client_id=client_id,\n",
    "                                                           client_secret=client_secret))"
   ]
  },
  {
   "cell_type": "code",
   "execution_count": 8,
   "metadata": {},
   "outputs": [],
   "source": [
    "def get_playlist_tracks(username, playlist_id):\n",
    "    results = sp.user_playlist_tracks(username, playlist_id)\n",
    "    tracks = results['items']\n",
    "    while results['next']:\n",
    "        # print(results['next'])\n",
    "        results = sp.next(results)\n",
    "        \n",
    "        tracks.extend(results['items'])\n",
    "    return tracks"
   ]
  },
  {
   "cell_type": "code",
   "execution_count": 9,
   "metadata": {},
   "outputs": [],
   "source": [
    "tracks_from_playlist = get_playlist_tracks('spotify', \"4rnleEAOdmFAbRcNCgZMpY\")"
   ]
  },
  {
   "cell_type": "code",
   "execution_count": 11,
   "metadata": {
    "scrolled": true
   },
   "outputs": [],
   "source": [
    "# tracks_from_playlist"
   ]
  },
  {
   "cell_type": "code",
   "execution_count": 12,
   "metadata": {},
   "outputs": [
    {
     "data": {
      "text/plain": [
       "5198"
      ]
     },
     "execution_count": 12,
     "metadata": {},
     "output_type": "execute_result"
    }
   ],
   "source": [
    "len(tracks_from_playlist)"
   ]
  },
  {
   "cell_type": "code",
   "execution_count": 13,
   "metadata": {},
   "outputs": [
    {
     "data": {
      "text/plain": [
       "'Hozier'"
      ]
     },
     "execution_count": 13,
     "metadata": {},
     "output_type": "execute_result"
    }
   ],
   "source": [
    "tracks_from_playlist[0]['track']['artists'][0]['name']"
   ]
  },
  {
   "cell_type": "code",
   "execution_count": 44,
   "metadata": {},
   "outputs": [],
   "source": [
    "# artist = []\n",
    "# interim = []\n",
    "# for j in range(len(tracks_from_playlist[1]['track']['artists'])):\n",
    "#     interim.append(tracks_from_playlist[1]['track']['artists'][j]['name'])"
   ]
  },
  {
   "cell_type": "code",
   "execution_count": null,
   "metadata": {},
   "outputs": [],
   "source": [
    "# artist.append(interim)"
   ]
  },
  {
   "cell_type": "code",
   "execution_count": null,
   "metadata": {},
   "outputs": [],
   "source": [
    "# artist"
   ]
  },
  {
   "cell_type": "code",
   "execution_count": 14,
   "metadata": {},
   "outputs": [
    {
     "data": {
      "text/plain": [
       "'7dS5EaCoMnN7DzlpT6aRn2'"
      ]
     },
     "execution_count": 14,
     "metadata": {},
     "output_type": "execute_result"
    }
   ],
   "source": [
    "tracks_from_playlist[0]['track']['id']"
   ]
  },
  {
   "cell_type": "code",
   "execution_count": 15,
   "metadata": {},
   "outputs": [
    {
     "data": {
      "text/plain": [
       "'Take Me To Church'"
      ]
     },
     "execution_count": 15,
     "metadata": {},
     "output_type": "execute_result"
    }
   ],
   "source": [
    "tracks_from_playlist[0]['track']['name']"
   ]
  },
  {
   "cell_type": "code",
   "execution_count": 18,
   "metadata": {},
   "outputs": [],
   "source": [
    "song_id = []\n",
    "song = []\n",
    "artist = []\n",
    "feature = []\n",
    "\n",
    "for i in range(len(tracks_from_playlist)):\n",
    "    song_id.append(tracks_from_playlist[i]['track']['id'])\n",
    "    song.append(tracks_from_playlist[i]['track']['name'])\n",
    "    interim = []\n",
    "    for j in range(len(tracks_from_playlist[i]['track']['artists'])):\n",
    "        interim.append(tracks_from_playlist[i]['track']['artists'][j]['name'])\n",
    "    artist.append(interim)\n",
    "    feature.append(sp.audio_features(tracks_from_playlist[i]['track']['id']))"
   ]
  },
  {
   "cell_type": "code",
   "execution_count": 19,
   "metadata": {
    "scrolled": true
   },
   "outputs": [],
   "source": [
    "# artist"
   ]
  },
  {
   "cell_type": "code",
   "execution_count": 24,
   "metadata": {},
   "outputs": [],
   "source": [
    "df__ = pd.DataFrame({'song_id': song_id, 'song': song, 'artist': artist})"
   ]
  },
  {
   "cell_type": "code",
   "execution_count": 25,
   "metadata": {},
   "outputs": [
    {
     "data": {
      "text/plain": [
       "(5198, 3)"
      ]
     },
     "execution_count": 25,
     "metadata": {},
     "output_type": "execute_result"
    }
   ],
   "source": [
    "df__.shape"
   ]
  },
  {
   "cell_type": "code",
   "execution_count": 17,
   "metadata": {},
   "outputs": [],
   "source": [
    "# feature"
   ]
  },
  {
   "cell_type": "code",
   "execution_count": 26,
   "metadata": {},
   "outputs": [
    {
     "data": {
      "text/plain": [
       "{'danceability': 0.566,\n",
       " 'energy': 0.664,\n",
       " 'key': 4,\n",
       " 'loudness': -5.303,\n",
       " 'mode': 0,\n",
       " 'speechiness': 0.0464,\n",
       " 'acousticness': 0.634,\n",
       " 'instrumentalness': 0,\n",
       " 'liveness': 0.116,\n",
       " 'valence': 0.437,\n",
       " 'tempo': 128.945,\n",
       " 'type': 'audio_features',\n",
       " 'id': '7dS5EaCoMnN7DzlpT6aRn2',\n",
       " 'uri': 'spotify:track:7dS5EaCoMnN7DzlpT6aRn2',\n",
       " 'track_href': 'https://api.spotify.com/v1/tracks/7dS5EaCoMnN7DzlpT6aRn2',\n",
       " 'analysis_url': 'https://api.spotify.com/v1/audio-analysis/7dS5EaCoMnN7DzlpT6aRn2',\n",
       " 'duration_ms': 241688,\n",
       " 'time_signature': 4}"
      ]
     },
     "execution_count": 26,
     "metadata": {},
     "output_type": "execute_result"
    }
   ],
   "source": [
    "sp.audio_features(tracks_from_playlist[0]['track']['id'])[0]"
   ]
  },
  {
   "cell_type": "code",
   "execution_count": 27,
   "metadata": {},
   "outputs": [
    {
     "data": {
      "text/plain": [
       "1"
      ]
     },
     "execution_count": 27,
     "metadata": {},
     "output_type": "execute_result"
    }
   ],
   "source": [
    "len(sp.audio_features(tracks_from_playlist[0]['track']['id']))"
   ]
  },
  {
   "cell_type": "code",
   "execution_count": 54,
   "metadata": {},
   "outputs": [],
   "source": []
  },
  {
   "cell_type": "code",
   "execution_count": 55,
   "metadata": {},
   "outputs": [],
   "source": [
    "# df = pd.DataFrame(sp.audio_features(tracks_from_playlist[0]['track']['id'])[0], index = range (1))"
   ]
  },
  {
   "cell_type": "code",
   "execution_count": 56,
   "metadata": {},
   "outputs": [],
   "source": [
    "# df.head()"
   ]
  },
  {
   "cell_type": "code",
   "execution_count": 38,
   "metadata": {},
   "outputs": [],
   "source": [
    "features_df = pd.DataFrame(feature).stack().apply(pd.Series)"
   ]
  },
  {
   "cell_type": "code",
   "execution_count": 39,
   "metadata": {},
   "outputs": [
    {
     "data": {
      "text/html": [
       "<div>\n",
       "<style scoped>\n",
       "    .dataframe tbody tr th:only-of-type {\n",
       "        vertical-align: middle;\n",
       "    }\n",
       "\n",
       "    .dataframe tbody tr th {\n",
       "        vertical-align: top;\n",
       "    }\n",
       "\n",
       "    .dataframe thead th {\n",
       "        text-align: right;\n",
       "    }\n",
       "</style>\n",
       "<table border=\"1\" class=\"dataframe\">\n",
       "  <thead>\n",
       "    <tr style=\"text-align: right;\">\n",
       "      <th></th>\n",
       "      <th></th>\n",
       "      <th>danceability</th>\n",
       "      <th>energy</th>\n",
       "      <th>key</th>\n",
       "      <th>loudness</th>\n",
       "      <th>mode</th>\n",
       "      <th>speechiness</th>\n",
       "      <th>acousticness</th>\n",
       "      <th>instrumentalness</th>\n",
       "      <th>liveness</th>\n",
       "      <th>valence</th>\n",
       "      <th>tempo</th>\n",
       "      <th>type</th>\n",
       "      <th>id</th>\n",
       "      <th>uri</th>\n",
       "      <th>track_href</th>\n",
       "      <th>analysis_url</th>\n",
       "      <th>duration_ms</th>\n",
       "      <th>time_signature</th>\n",
       "    </tr>\n",
       "  </thead>\n",
       "  <tbody>\n",
       "    <tr>\n",
       "      <th>0</th>\n",
       "      <th>0</th>\n",
       "      <td>0.566</td>\n",
       "      <td>0.664</td>\n",
       "      <td>4</td>\n",
       "      <td>-5.303</td>\n",
       "      <td>0</td>\n",
       "      <td>0.0464</td>\n",
       "      <td>0.6340</td>\n",
       "      <td>0.000000</td>\n",
       "      <td>0.116</td>\n",
       "      <td>0.437</td>\n",
       "      <td>128.945</td>\n",
       "      <td>audio_features</td>\n",
       "      <td>7dS5EaCoMnN7DzlpT6aRn2</td>\n",
       "      <td>spotify:track:7dS5EaCoMnN7DzlpT6aRn2</td>\n",
       "      <td>https://api.spotify.com/v1/tracks/7dS5EaCoMnN7...</td>\n",
       "      <td>https://api.spotify.com/v1/audio-analysis/7dS5...</td>\n",
       "      <td>241688</td>\n",
       "      <td>4</td>\n",
       "    </tr>\n",
       "    <tr>\n",
       "      <th>1</th>\n",
       "      <th>0</th>\n",
       "      <td>0.768</td>\n",
       "      <td>0.820</td>\n",
       "      <td>7</td>\n",
       "      <td>-4.630</td>\n",
       "      <td>0</td>\n",
       "      <td>0.0475</td>\n",
       "      <td>0.1790</td>\n",
       "      <td>0.000000</td>\n",
       "      <td>0.704</td>\n",
       "      <td>0.625</td>\n",
       "      <td>129.969</td>\n",
       "      <td>audio_features</td>\n",
       "      <td>2V4bv1fNWfTcyRJKmej6Sj</td>\n",
       "      <td>spotify:track:2V4bv1fNWfTcyRJKmej6Sj</td>\n",
       "      <td>https://api.spotify.com/v1/tracks/2V4bv1fNWfTc...</td>\n",
       "      <td>https://api.spotify.com/v1/audio-analysis/2V4b...</td>\n",
       "      <td>213293</td>\n",
       "      <td>4</td>\n",
       "    </tr>\n",
       "    <tr>\n",
       "      <th>2</th>\n",
       "      <th>0</th>\n",
       "      <td>0.558</td>\n",
       "      <td>0.559</td>\n",
       "      <td>6</td>\n",
       "      <td>-9.222</td>\n",
       "      <td>1</td>\n",
       "      <td>0.0959</td>\n",
       "      <td>0.3710</td>\n",
       "      <td>0.000007</td>\n",
       "      <td>0.109</td>\n",
       "      <td>0.620</td>\n",
       "      <td>78.558</td>\n",
       "      <td>audio_features</td>\n",
       "      <td>7KA4W4McWYRpgf0fWsJZWB</td>\n",
       "      <td>spotify:track:7KA4W4McWYRpgf0fWsJZWB</td>\n",
       "      <td>https://api.spotify.com/v1/tracks/7KA4W4McWYRp...</td>\n",
       "      <td>https://api.spotify.com/v1/audio-analysis/7KA4...</td>\n",
       "      <td>180387</td>\n",
       "      <td>4</td>\n",
       "    </tr>\n",
       "    <tr>\n",
       "      <th>3</th>\n",
       "      <th>0</th>\n",
       "      <td>0.679</td>\n",
       "      <td>0.715</td>\n",
       "      <td>9</td>\n",
       "      <td>-6.383</td>\n",
       "      <td>1</td>\n",
       "      <td>0.0407</td>\n",
       "      <td>0.0755</td>\n",
       "      <td>0.000000</td>\n",
       "      <td>0.271</td>\n",
       "      <td>0.571</td>\n",
       "      <td>127.435</td>\n",
       "      <td>audio_features</td>\n",
       "      <td>3gbBpTdY8lnQwqxNCcf795</td>\n",
       "      <td>spotify:track:3gbBpTdY8lnQwqxNCcf795</td>\n",
       "      <td>https://api.spotify.com/v1/tracks/3gbBpTdY8lnQ...</td>\n",
       "      <td>https://api.spotify.com/v1/audio-analysis/3gbB...</td>\n",
       "      <td>214148</td>\n",
       "      <td>4</td>\n",
       "    </tr>\n",
       "    <tr>\n",
       "      <th>4</th>\n",
       "      <th>0</th>\n",
       "      <td>0.778</td>\n",
       "      <td>0.824</td>\n",
       "      <td>10</td>\n",
       "      <td>-5.892</td>\n",
       "      <td>0</td>\n",
       "      <td>0.0712</td>\n",
       "      <td>0.2840</td>\n",
       "      <td>0.000000</td>\n",
       "      <td>0.405</td>\n",
       "      <td>0.756</td>\n",
       "      <td>100.024</td>\n",
       "      <td>audio_features</td>\n",
       "      <td>3ZFTkvIE7kyPt6Nu3PEa7V</td>\n",
       "      <td>spotify:track:3ZFTkvIE7kyPt6Nu3PEa7V</td>\n",
       "      <td>https://api.spotify.com/v1/tracks/3ZFTkvIE7kyP...</td>\n",
       "      <td>https://api.spotify.com/v1/audio-analysis/3ZFT...</td>\n",
       "      <td>218093</td>\n",
       "      <td>4</td>\n",
       "    </tr>\n",
       "  </tbody>\n",
       "</table>\n",
       "</div>"
      ],
      "text/plain": [
       "     danceability  energy  key  loudness  mode  speechiness  acousticness  \\\n",
       "0 0         0.566   0.664    4    -5.303     0       0.0464        0.6340   \n",
       "1 0         0.768   0.820    7    -4.630     0       0.0475        0.1790   \n",
       "2 0         0.558   0.559    6    -9.222     1       0.0959        0.3710   \n",
       "3 0         0.679   0.715    9    -6.383     1       0.0407        0.0755   \n",
       "4 0         0.778   0.824   10    -5.892     0       0.0712        0.2840   \n",
       "\n",
       "     instrumentalness  liveness  valence    tempo            type  \\\n",
       "0 0          0.000000     0.116    0.437  128.945  audio_features   \n",
       "1 0          0.000000     0.704    0.625  129.969  audio_features   \n",
       "2 0          0.000007     0.109    0.620   78.558  audio_features   \n",
       "3 0          0.000000     0.271    0.571  127.435  audio_features   \n",
       "4 0          0.000000     0.405    0.756  100.024  audio_features   \n",
       "\n",
       "                         id                                   uri  \\\n",
       "0 0  7dS5EaCoMnN7DzlpT6aRn2  spotify:track:7dS5EaCoMnN7DzlpT6aRn2   \n",
       "1 0  2V4bv1fNWfTcyRJKmej6Sj  spotify:track:2V4bv1fNWfTcyRJKmej6Sj   \n",
       "2 0  7KA4W4McWYRpgf0fWsJZWB  spotify:track:7KA4W4McWYRpgf0fWsJZWB   \n",
       "3 0  3gbBpTdY8lnQwqxNCcf795  spotify:track:3gbBpTdY8lnQwqxNCcf795   \n",
       "4 0  3ZFTkvIE7kyPt6Nu3PEa7V  spotify:track:3ZFTkvIE7kyPt6Nu3PEa7V   \n",
       "\n",
       "                                            track_href  \\\n",
       "0 0  https://api.spotify.com/v1/tracks/7dS5EaCoMnN7...   \n",
       "1 0  https://api.spotify.com/v1/tracks/2V4bv1fNWfTc...   \n",
       "2 0  https://api.spotify.com/v1/tracks/7KA4W4McWYRp...   \n",
       "3 0  https://api.spotify.com/v1/tracks/3gbBpTdY8lnQ...   \n",
       "4 0  https://api.spotify.com/v1/tracks/3ZFTkvIE7kyP...   \n",
       "\n",
       "                                          analysis_url  duration_ms  \\\n",
       "0 0  https://api.spotify.com/v1/audio-analysis/7dS5...       241688   \n",
       "1 0  https://api.spotify.com/v1/audio-analysis/2V4b...       213293   \n",
       "2 0  https://api.spotify.com/v1/audio-analysis/7KA4...       180387   \n",
       "3 0  https://api.spotify.com/v1/audio-analysis/3gbB...       214148   \n",
       "4 0  https://api.spotify.com/v1/audio-analysis/3ZFT...       218093   \n",
       "\n",
       "     time_signature  \n",
       "0 0               4  \n",
       "1 0               4  \n",
       "2 0               4  \n",
       "3 0               4  \n",
       "4 0               4  "
      ]
     },
     "execution_count": 39,
     "metadata": {},
     "output_type": "execute_result"
    }
   ],
   "source": [
    "features_df.head()"
   ]
  },
  {
   "cell_type": "code",
   "execution_count": 40,
   "metadata": {},
   "outputs": [],
   "source": [
    "final_df = pd.DataFrame(np.hstack([df__, features_df]), columns=df__.columns.append(features_df.columns))"
   ]
  },
  {
   "cell_type": "code",
   "execution_count": 41,
   "metadata": {},
   "outputs": [
    {
     "data": {
      "text/html": [
       "<div>\n",
       "<style scoped>\n",
       "    .dataframe tbody tr th:only-of-type {\n",
       "        vertical-align: middle;\n",
       "    }\n",
       "\n",
       "    .dataframe tbody tr th {\n",
       "        vertical-align: top;\n",
       "    }\n",
       "\n",
       "    .dataframe thead th {\n",
       "        text-align: right;\n",
       "    }\n",
       "</style>\n",
       "<table border=\"1\" class=\"dataframe\">\n",
       "  <thead>\n",
       "    <tr style=\"text-align: right;\">\n",
       "      <th></th>\n",
       "      <th>song_id</th>\n",
       "      <th>song</th>\n",
       "      <th>artist</th>\n",
       "      <th>danceability</th>\n",
       "      <th>energy</th>\n",
       "      <th>key</th>\n",
       "      <th>loudness</th>\n",
       "      <th>mode</th>\n",
       "      <th>speechiness</th>\n",
       "      <th>acousticness</th>\n",
       "      <th>...</th>\n",
       "      <th>liveness</th>\n",
       "      <th>valence</th>\n",
       "      <th>tempo</th>\n",
       "      <th>type</th>\n",
       "      <th>id</th>\n",
       "      <th>uri</th>\n",
       "      <th>track_href</th>\n",
       "      <th>analysis_url</th>\n",
       "      <th>duration_ms</th>\n",
       "      <th>time_signature</th>\n",
       "    </tr>\n",
       "  </thead>\n",
       "  <tbody>\n",
       "    <tr>\n",
       "      <th>0</th>\n",
       "      <td>7dS5EaCoMnN7DzlpT6aRn2</td>\n",
       "      <td>Take Me To Church</td>\n",
       "      <td>[Hozier]</td>\n",
       "      <td>0.566</td>\n",
       "      <td>0.664</td>\n",
       "      <td>4</td>\n",
       "      <td>-5.303</td>\n",
       "      <td>0</td>\n",
       "      <td>0.0464</td>\n",
       "      <td>0.6340</td>\n",
       "      <td>...</td>\n",
       "      <td>0.116</td>\n",
       "      <td>0.437</td>\n",
       "      <td>128.945</td>\n",
       "      <td>audio_features</td>\n",
       "      <td>7dS5EaCoMnN7DzlpT6aRn2</td>\n",
       "      <td>spotify:track:7dS5EaCoMnN7DzlpT6aRn2</td>\n",
       "      <td>https://api.spotify.com/v1/tracks/7dS5EaCoMnN7...</td>\n",
       "      <td>https://api.spotify.com/v1/audio-analysis/7dS5...</td>\n",
       "      <td>241688</td>\n",
       "      <td>4</td>\n",
       "    </tr>\n",
       "    <tr>\n",
       "      <th>1</th>\n",
       "      <td>2V4bv1fNWfTcyRJKmej6Sj</td>\n",
       "      <td>Cooler Than Me - Single Mix</td>\n",
       "      <td>[Mike Posner, Gigamesh]</td>\n",
       "      <td>0.768</td>\n",
       "      <td>0.820</td>\n",
       "      <td>7</td>\n",
       "      <td>-4.630</td>\n",
       "      <td>0</td>\n",
       "      <td>0.0475</td>\n",
       "      <td>0.1790</td>\n",
       "      <td>...</td>\n",
       "      <td>0.704</td>\n",
       "      <td>0.625</td>\n",
       "      <td>129.969</td>\n",
       "      <td>audio_features</td>\n",
       "      <td>2V4bv1fNWfTcyRJKmej6Sj</td>\n",
       "      <td>spotify:track:2V4bv1fNWfTcyRJKmej6Sj</td>\n",
       "      <td>https://api.spotify.com/v1/tracks/2V4bv1fNWfTc...</td>\n",
       "      <td>https://api.spotify.com/v1/audio-analysis/2V4b...</td>\n",
       "      <td>213293</td>\n",
       "      <td>4</td>\n",
       "    </tr>\n",
       "    <tr>\n",
       "      <th>2</th>\n",
       "      <td>7KA4W4McWYRpgf0fWsJZWB</td>\n",
       "      <td>See You Again (feat. Kali Uchis)</td>\n",
       "      <td>[Tyler, The Creator, Kali Uchis]</td>\n",
       "      <td>0.558</td>\n",
       "      <td>0.559</td>\n",
       "      <td>6</td>\n",
       "      <td>-9.222</td>\n",
       "      <td>1</td>\n",
       "      <td>0.0959</td>\n",
       "      <td>0.3710</td>\n",
       "      <td>...</td>\n",
       "      <td>0.109</td>\n",
       "      <td>0.620</td>\n",
       "      <td>78.558</td>\n",
       "      <td>audio_features</td>\n",
       "      <td>7KA4W4McWYRpgf0fWsJZWB</td>\n",
       "      <td>spotify:track:7KA4W4McWYRpgf0fWsJZWB</td>\n",
       "      <td>https://api.spotify.com/v1/tracks/7KA4W4McWYRp...</td>\n",
       "      <td>https://api.spotify.com/v1/audio-analysis/7KA4...</td>\n",
       "      <td>180387</td>\n",
       "      <td>4</td>\n",
       "    </tr>\n",
       "    <tr>\n",
       "      <th>3</th>\n",
       "      <td>3gbBpTdY8lnQwqxNCcf795</td>\n",
       "      <td>Pompeii</td>\n",
       "      <td>[Bastille]</td>\n",
       "      <td>0.679</td>\n",
       "      <td>0.715</td>\n",
       "      <td>9</td>\n",
       "      <td>-6.383</td>\n",
       "      <td>1</td>\n",
       "      <td>0.0407</td>\n",
       "      <td>0.0755</td>\n",
       "      <td>...</td>\n",
       "      <td>0.271</td>\n",
       "      <td>0.571</td>\n",
       "      <td>127.435</td>\n",
       "      <td>audio_features</td>\n",
       "      <td>3gbBpTdY8lnQwqxNCcf795</td>\n",
       "      <td>spotify:track:3gbBpTdY8lnQwqxNCcf795</td>\n",
       "      <td>https://api.spotify.com/v1/tracks/3gbBpTdY8lnQ...</td>\n",
       "      <td>https://api.spotify.com/v1/audio-analysis/3gbB...</td>\n",
       "      <td>214148</td>\n",
       "      <td>4</td>\n",
       "    </tr>\n",
       "    <tr>\n",
       "      <th>4</th>\n",
       "      <td>3ZFTkvIE7kyPt6Nu3PEa7V</td>\n",
       "      <td>Hips Don't Lie (feat. Wyclef Jean)</td>\n",
       "      <td>[Shakira, Wyclef Jean]</td>\n",
       "      <td>0.778</td>\n",
       "      <td>0.824</td>\n",
       "      <td>10</td>\n",
       "      <td>-5.892</td>\n",
       "      <td>0</td>\n",
       "      <td>0.0712</td>\n",
       "      <td>0.2840</td>\n",
       "      <td>...</td>\n",
       "      <td>0.405</td>\n",
       "      <td>0.756</td>\n",
       "      <td>100.024</td>\n",
       "      <td>audio_features</td>\n",
       "      <td>3ZFTkvIE7kyPt6Nu3PEa7V</td>\n",
       "      <td>spotify:track:3ZFTkvIE7kyPt6Nu3PEa7V</td>\n",
       "      <td>https://api.spotify.com/v1/tracks/3ZFTkvIE7kyP...</td>\n",
       "      <td>https://api.spotify.com/v1/audio-analysis/3ZFT...</td>\n",
       "      <td>218093</td>\n",
       "      <td>4</td>\n",
       "    </tr>\n",
       "  </tbody>\n",
       "</table>\n",
       "<p>5 rows × 21 columns</p>\n",
       "</div>"
      ],
      "text/plain": [
       "                  song_id                                song  \\\n",
       "0  7dS5EaCoMnN7DzlpT6aRn2                   Take Me To Church   \n",
       "1  2V4bv1fNWfTcyRJKmej6Sj         Cooler Than Me - Single Mix   \n",
       "2  7KA4W4McWYRpgf0fWsJZWB    See You Again (feat. Kali Uchis)   \n",
       "3  3gbBpTdY8lnQwqxNCcf795                             Pompeii   \n",
       "4  3ZFTkvIE7kyPt6Nu3PEa7V  Hips Don't Lie (feat. Wyclef Jean)   \n",
       "\n",
       "                             artist danceability energy key loudness mode  \\\n",
       "0                          [Hozier]        0.566  0.664   4   -5.303    0   \n",
       "1           [Mike Posner, Gigamesh]        0.768  0.820   7   -4.630    0   \n",
       "2  [Tyler, The Creator, Kali Uchis]        0.558  0.559   6   -9.222    1   \n",
       "3                        [Bastille]        0.679  0.715   9   -6.383    1   \n",
       "4            [Shakira, Wyclef Jean]        0.778  0.824  10   -5.892    0   \n",
       "\n",
       "  speechiness acousticness  ... liveness valence    tempo            type  \\\n",
       "0      0.0464       0.6340  ...    0.116   0.437  128.945  audio_features   \n",
       "1      0.0475       0.1790  ...    0.704   0.625  129.969  audio_features   \n",
       "2      0.0959       0.3710  ...    0.109   0.620   78.558  audio_features   \n",
       "3      0.0407       0.0755  ...    0.271   0.571  127.435  audio_features   \n",
       "4      0.0712       0.2840  ...    0.405   0.756  100.024  audio_features   \n",
       "\n",
       "                       id                                   uri  \\\n",
       "0  7dS5EaCoMnN7DzlpT6aRn2  spotify:track:7dS5EaCoMnN7DzlpT6aRn2   \n",
       "1  2V4bv1fNWfTcyRJKmej6Sj  spotify:track:2V4bv1fNWfTcyRJKmej6Sj   \n",
       "2  7KA4W4McWYRpgf0fWsJZWB  spotify:track:7KA4W4McWYRpgf0fWsJZWB   \n",
       "3  3gbBpTdY8lnQwqxNCcf795  spotify:track:3gbBpTdY8lnQwqxNCcf795   \n",
       "4  3ZFTkvIE7kyPt6Nu3PEa7V  spotify:track:3ZFTkvIE7kyPt6Nu3PEa7V   \n",
       "\n",
       "                                          track_href  \\\n",
       "0  https://api.spotify.com/v1/tracks/7dS5EaCoMnN7...   \n",
       "1  https://api.spotify.com/v1/tracks/2V4bv1fNWfTc...   \n",
       "2  https://api.spotify.com/v1/tracks/7KA4W4McWYRp...   \n",
       "3  https://api.spotify.com/v1/tracks/3gbBpTdY8lnQ...   \n",
       "4  https://api.spotify.com/v1/tracks/3ZFTkvIE7kyP...   \n",
       "\n",
       "                                        analysis_url duration_ms  \\\n",
       "0  https://api.spotify.com/v1/audio-analysis/7dS5...      241688   \n",
       "1  https://api.spotify.com/v1/audio-analysis/2V4b...      213293   \n",
       "2  https://api.spotify.com/v1/audio-analysis/7KA4...      180387   \n",
       "3  https://api.spotify.com/v1/audio-analysis/3gbB...      214148   \n",
       "4  https://api.spotify.com/v1/audio-analysis/3ZFT...      218093   \n",
       "\n",
       "  time_signature  \n",
       "0              4  \n",
       "1              4  \n",
       "2              4  \n",
       "3              4  \n",
       "4              4  \n",
       "\n",
       "[5 rows x 21 columns]"
      ]
     },
     "execution_count": 41,
     "metadata": {},
     "output_type": "execute_result"
    }
   ],
   "source": [
    "final_df.head()"
   ]
  },
  {
   "cell_type": "code",
   "execution_count": 42,
   "metadata": {},
   "outputs": [],
   "source": [
    "final_df['artist'] = [', '.join(map(str, l)) for l in final_df['artist']]"
   ]
  },
  {
   "cell_type": "code",
   "execution_count": 43,
   "metadata": {},
   "outputs": [],
   "source": [
    "final_df = final_df.drop(['id', 'type','uri', 'track_href', 'analysis_url', 'duration_ms', 'time_signature'], axis = 1)"
   ]
  },
  {
   "cell_type": "code",
   "execution_count": 44,
   "metadata": {},
   "outputs": [],
   "source": [
    "# final_df['artist'] = final_df['artist'].apply(listToString)"
   ]
  },
  {
   "cell_type": "code",
   "execution_count": 45,
   "metadata": {},
   "outputs": [],
   "source": [
    "# def listToString(s):  \n",
    "    \n",
    "#     # initialize an empty string \n",
    "#     str1 = \" \" \n",
    "    \n",
    "#     # return string   \n",
    "#     return (str1.join(s))"
   ]
  },
  {
   "cell_type": "code",
   "execution_count": 46,
   "metadata": {},
   "outputs": [
    {
     "data": {
      "text/plain": [
       "(5198, 14)"
      ]
     },
     "execution_count": 46,
     "metadata": {},
     "output_type": "execute_result"
    }
   ],
   "source": [
    "final_df.shape"
   ]
  },
  {
   "cell_type": "code",
   "execution_count": 47,
   "metadata": {},
   "outputs": [
    {
     "data": {
      "text/html": [
       "<div>\n",
       "<style scoped>\n",
       "    .dataframe tbody tr th:only-of-type {\n",
       "        vertical-align: middle;\n",
       "    }\n",
       "\n",
       "    .dataframe tbody tr th {\n",
       "        vertical-align: top;\n",
       "    }\n",
       "\n",
       "    .dataframe thead th {\n",
       "        text-align: right;\n",
       "    }\n",
       "</style>\n",
       "<table border=\"1\" class=\"dataframe\">\n",
       "  <thead>\n",
       "    <tr style=\"text-align: right;\">\n",
       "      <th></th>\n",
       "      <th>song_id</th>\n",
       "      <th>song</th>\n",
       "      <th>artist</th>\n",
       "      <th>danceability</th>\n",
       "      <th>energy</th>\n",
       "      <th>key</th>\n",
       "      <th>loudness</th>\n",
       "      <th>mode</th>\n",
       "      <th>speechiness</th>\n",
       "      <th>acousticness</th>\n",
       "      <th>instrumentalness</th>\n",
       "      <th>liveness</th>\n",
       "      <th>valence</th>\n",
       "      <th>tempo</th>\n",
       "    </tr>\n",
       "  </thead>\n",
       "  <tbody>\n",
       "    <tr>\n",
       "      <th>0</th>\n",
       "      <td>7dS5EaCoMnN7DzlpT6aRn2</td>\n",
       "      <td>Take Me To Church</td>\n",
       "      <td>Hozier</td>\n",
       "      <td>0.566</td>\n",
       "      <td>0.664</td>\n",
       "      <td>4</td>\n",
       "      <td>-5.303</td>\n",
       "      <td>0</td>\n",
       "      <td>0.0464</td>\n",
       "      <td>0.6340</td>\n",
       "      <td>0.000000</td>\n",
       "      <td>0.116</td>\n",
       "      <td>0.437</td>\n",
       "      <td>128.945</td>\n",
       "    </tr>\n",
       "    <tr>\n",
       "      <th>1</th>\n",
       "      <td>2V4bv1fNWfTcyRJKmej6Sj</td>\n",
       "      <td>Cooler Than Me - Single Mix</td>\n",
       "      <td>Mike Posner, Gigamesh</td>\n",
       "      <td>0.768</td>\n",
       "      <td>0.820</td>\n",
       "      <td>7</td>\n",
       "      <td>-4.630</td>\n",
       "      <td>0</td>\n",
       "      <td>0.0475</td>\n",
       "      <td>0.1790</td>\n",
       "      <td>0.000000</td>\n",
       "      <td>0.704</td>\n",
       "      <td>0.625</td>\n",
       "      <td>129.969</td>\n",
       "    </tr>\n",
       "    <tr>\n",
       "      <th>2</th>\n",
       "      <td>7KA4W4McWYRpgf0fWsJZWB</td>\n",
       "      <td>See You Again (feat. Kali Uchis)</td>\n",
       "      <td>Tyler, The Creator, Kali Uchis</td>\n",
       "      <td>0.558</td>\n",
       "      <td>0.559</td>\n",
       "      <td>6</td>\n",
       "      <td>-9.222</td>\n",
       "      <td>1</td>\n",
       "      <td>0.0959</td>\n",
       "      <td>0.3710</td>\n",
       "      <td>0.000007</td>\n",
       "      <td>0.109</td>\n",
       "      <td>0.620</td>\n",
       "      <td>78.558</td>\n",
       "    </tr>\n",
       "    <tr>\n",
       "      <th>3</th>\n",
       "      <td>3gbBpTdY8lnQwqxNCcf795</td>\n",
       "      <td>Pompeii</td>\n",
       "      <td>Bastille</td>\n",
       "      <td>0.679</td>\n",
       "      <td>0.715</td>\n",
       "      <td>9</td>\n",
       "      <td>-6.383</td>\n",
       "      <td>1</td>\n",
       "      <td>0.0407</td>\n",
       "      <td>0.0755</td>\n",
       "      <td>0.000000</td>\n",
       "      <td>0.271</td>\n",
       "      <td>0.571</td>\n",
       "      <td>127.435</td>\n",
       "    </tr>\n",
       "    <tr>\n",
       "      <th>4</th>\n",
       "      <td>3ZFTkvIE7kyPt6Nu3PEa7V</td>\n",
       "      <td>Hips Don't Lie (feat. Wyclef Jean)</td>\n",
       "      <td>Shakira, Wyclef Jean</td>\n",
       "      <td>0.778</td>\n",
       "      <td>0.824</td>\n",
       "      <td>10</td>\n",
       "      <td>-5.892</td>\n",
       "      <td>0</td>\n",
       "      <td>0.0712</td>\n",
       "      <td>0.2840</td>\n",
       "      <td>0.000000</td>\n",
       "      <td>0.405</td>\n",
       "      <td>0.756</td>\n",
       "      <td>100.024</td>\n",
       "    </tr>\n",
       "  </tbody>\n",
       "</table>\n",
       "</div>"
      ],
      "text/plain": [
       "                  song_id                                song  \\\n",
       "0  7dS5EaCoMnN7DzlpT6aRn2                   Take Me To Church   \n",
       "1  2V4bv1fNWfTcyRJKmej6Sj         Cooler Than Me - Single Mix   \n",
       "2  7KA4W4McWYRpgf0fWsJZWB    See You Again (feat. Kali Uchis)   \n",
       "3  3gbBpTdY8lnQwqxNCcf795                             Pompeii   \n",
       "4  3ZFTkvIE7kyPt6Nu3PEa7V  Hips Don't Lie (feat. Wyclef Jean)   \n",
       "\n",
       "                           artist danceability energy key loudness mode  \\\n",
       "0                          Hozier        0.566  0.664   4   -5.303    0   \n",
       "1           Mike Posner, Gigamesh        0.768  0.820   7   -4.630    0   \n",
       "2  Tyler, The Creator, Kali Uchis        0.558  0.559   6   -9.222    1   \n",
       "3                        Bastille        0.679  0.715   9   -6.383    1   \n",
       "4            Shakira, Wyclef Jean        0.778  0.824  10   -5.892    0   \n",
       "\n",
       "  speechiness acousticness instrumentalness liveness valence    tempo  \n",
       "0      0.0464       0.6340         0.000000    0.116   0.437  128.945  \n",
       "1      0.0475       0.1790         0.000000    0.704   0.625  129.969  \n",
       "2      0.0959       0.3710         0.000007    0.109   0.620   78.558  \n",
       "3      0.0407       0.0755         0.000000    0.271   0.571  127.435  \n",
       "4      0.0712       0.2840         0.000000    0.405   0.756  100.024  "
      ]
     },
     "execution_count": 47,
     "metadata": {},
     "output_type": "execute_result"
    }
   ],
   "source": [
    "final_df.head()"
   ]
  },
  {
   "cell_type": "code",
   "execution_count": 22,
   "metadata": {},
   "outputs": [],
   "source": [
    "# to get a list all the \"Meta\" categories that spotify works with\n",
    "# check the 'country' or the 'locale' keyword in categories() to customize your playlist selection \n",
    "\n",
    "# categories = sp.categories()   # this is a Spotipy function!\n",
    "\n",
    "# # these you can loop over to get all the names of these categories\n",
    "\n",
    "# cat_id = [cat['id'] for cat in categories['categories']['items']]\n",
    "\n",
    "# cat_name = [cat['name'] for cat in categories['categories']['items']]\n",
    "\n",
    "# # replace cat['name'] with cat['id'] in there and use these id's to get all the playlists\n",
    "# # in those categories (again, build a loop)\n",
    "\n",
    "# # sp.category_playlists(cat_id)   # this is a Spotipy function!\n",
    "\n",
    "# # From here on, you can drill deeper and get all the songs per playlist, etc...\n",
    "# # I would write functions for all of these parts. and in the end pass values from functions to functions\n",
    "\n",
    "# Try to also define a function, which gets a song ID and returns a dictionary with the song features and their values\n",
    "\n",
    "# because this is what you can use to easily build a dataframe of (the song feature names being the column names), and append it to a dataframe in a loop\n",
    "# this function is sort of one of the \"nucleus\" functions of your code"
   ]
  },
  {
   "cell_type": "code",
   "execution_count": 20,
   "metadata": {},
   "outputs": [],
   "source": [
    "# cat_id"
   ]
  },
  {
   "cell_type": "code",
   "execution_count": 21,
   "metadata": {},
   "outputs": [],
   "source": [
    "# sp.category_playlists(cat_id[2]).keys()"
   ]
  },
  {
   "cell_type": "code",
   "execution_count": null,
   "metadata": {},
   "outputs": [],
   "source": []
  },
  {
   "cell_type": "code",
   "execution_count": 48,
   "metadata": {},
   "outputs": [],
   "source": [
    "X = final_df.drop(['song_id', 'song','artist'], axis = 1)"
   ]
  },
  {
   "cell_type": "code",
   "execution_count": 49,
   "metadata": {},
   "outputs": [
    {
     "data": {
      "text/html": [
       "<div>\n",
       "<style scoped>\n",
       "    .dataframe tbody tr th:only-of-type {\n",
       "        vertical-align: middle;\n",
       "    }\n",
       "\n",
       "    .dataframe tbody tr th {\n",
       "        vertical-align: top;\n",
       "    }\n",
       "\n",
       "    .dataframe thead th {\n",
       "        text-align: right;\n",
       "    }\n",
       "</style>\n",
       "<table border=\"1\" class=\"dataframe\">\n",
       "  <thead>\n",
       "    <tr style=\"text-align: right;\">\n",
       "      <th></th>\n",
       "      <th>danceability</th>\n",
       "      <th>energy</th>\n",
       "      <th>key</th>\n",
       "      <th>loudness</th>\n",
       "      <th>mode</th>\n",
       "      <th>speechiness</th>\n",
       "      <th>acousticness</th>\n",
       "      <th>instrumentalness</th>\n",
       "      <th>liveness</th>\n",
       "      <th>valence</th>\n",
       "      <th>tempo</th>\n",
       "    </tr>\n",
       "  </thead>\n",
       "  <tbody>\n",
       "    <tr>\n",
       "      <th>0</th>\n",
       "      <td>0.566</td>\n",
       "      <td>0.664</td>\n",
       "      <td>4</td>\n",
       "      <td>-5.303</td>\n",
       "      <td>0</td>\n",
       "      <td>0.0464</td>\n",
       "      <td>0.6340</td>\n",
       "      <td>0.000000</td>\n",
       "      <td>0.116</td>\n",
       "      <td>0.437</td>\n",
       "      <td>128.945</td>\n",
       "    </tr>\n",
       "    <tr>\n",
       "      <th>1</th>\n",
       "      <td>0.768</td>\n",
       "      <td>0.820</td>\n",
       "      <td>7</td>\n",
       "      <td>-4.630</td>\n",
       "      <td>0</td>\n",
       "      <td>0.0475</td>\n",
       "      <td>0.1790</td>\n",
       "      <td>0.000000</td>\n",
       "      <td>0.704</td>\n",
       "      <td>0.625</td>\n",
       "      <td>129.969</td>\n",
       "    </tr>\n",
       "    <tr>\n",
       "      <th>2</th>\n",
       "      <td>0.558</td>\n",
       "      <td>0.559</td>\n",
       "      <td>6</td>\n",
       "      <td>-9.222</td>\n",
       "      <td>1</td>\n",
       "      <td>0.0959</td>\n",
       "      <td>0.3710</td>\n",
       "      <td>0.000007</td>\n",
       "      <td>0.109</td>\n",
       "      <td>0.620</td>\n",
       "      <td>78.558</td>\n",
       "    </tr>\n",
       "    <tr>\n",
       "      <th>3</th>\n",
       "      <td>0.679</td>\n",
       "      <td>0.715</td>\n",
       "      <td>9</td>\n",
       "      <td>-6.383</td>\n",
       "      <td>1</td>\n",
       "      <td>0.0407</td>\n",
       "      <td>0.0755</td>\n",
       "      <td>0.000000</td>\n",
       "      <td>0.271</td>\n",
       "      <td>0.571</td>\n",
       "      <td>127.435</td>\n",
       "    </tr>\n",
       "    <tr>\n",
       "      <th>4</th>\n",
       "      <td>0.778</td>\n",
       "      <td>0.824</td>\n",
       "      <td>10</td>\n",
       "      <td>-5.892</td>\n",
       "      <td>0</td>\n",
       "      <td>0.0712</td>\n",
       "      <td>0.2840</td>\n",
       "      <td>0.000000</td>\n",
       "      <td>0.405</td>\n",
       "      <td>0.756</td>\n",
       "      <td>100.024</td>\n",
       "    </tr>\n",
       "  </tbody>\n",
       "</table>\n",
       "</div>"
      ],
      "text/plain": [
       "  danceability energy key loudness mode speechiness acousticness  \\\n",
       "0        0.566  0.664   4   -5.303    0      0.0464       0.6340   \n",
       "1        0.768  0.820   7   -4.630    0      0.0475       0.1790   \n",
       "2        0.558  0.559   6   -9.222    1      0.0959       0.3710   \n",
       "3        0.679  0.715   9   -6.383    1      0.0407       0.0755   \n",
       "4        0.778  0.824  10   -5.892    0      0.0712       0.2840   \n",
       "\n",
       "  instrumentalness liveness valence    tempo  \n",
       "0         0.000000    0.116   0.437  128.945  \n",
       "1         0.000000    0.704   0.625  129.969  \n",
       "2         0.000007    0.109   0.620   78.558  \n",
       "3         0.000000    0.271   0.571  127.435  \n",
       "4         0.000000    0.405   0.756  100.024  "
      ]
     },
     "execution_count": 49,
     "metadata": {},
     "output_type": "execute_result"
    }
   ],
   "source": [
    "X.head()"
   ]
  },
  {
   "cell_type": "code",
   "execution_count": 50,
   "metadata": {},
   "outputs": [],
   "source": [
    "from sklearn.preprocessing import StandardScaler\n",
    "scaler = StandardScaler()\n",
    "X_sc = scaler.fit_transform(X)\n",
    "X_scaled = pd.DataFrame(X_sc, columns=X.columns)"
   ]
  },
  {
   "cell_type": "code",
   "execution_count": 51,
   "metadata": {},
   "outputs": [
    {
     "data": {
      "text/html": [
       "<div>\n",
       "<style scoped>\n",
       "    .dataframe tbody tr th:only-of-type {\n",
       "        vertical-align: middle;\n",
       "    }\n",
       "\n",
       "    .dataframe tbody tr th {\n",
       "        vertical-align: top;\n",
       "    }\n",
       "\n",
       "    .dataframe thead th {\n",
       "        text-align: right;\n",
       "    }\n",
       "</style>\n",
       "<table border=\"1\" class=\"dataframe\">\n",
       "  <thead>\n",
       "    <tr style=\"text-align: right;\">\n",
       "      <th></th>\n",
       "      <th>danceability</th>\n",
       "      <th>energy</th>\n",
       "      <th>key</th>\n",
       "      <th>loudness</th>\n",
       "      <th>mode</th>\n",
       "      <th>speechiness</th>\n",
       "      <th>acousticness</th>\n",
       "      <th>instrumentalness</th>\n",
       "      <th>liveness</th>\n",
       "      <th>valence</th>\n",
       "      <th>tempo</th>\n",
       "    </tr>\n",
       "  </thead>\n",
       "  <tbody>\n",
       "    <tr>\n",
       "      <th>0</th>\n",
       "      <td>-0.721659</td>\n",
       "      <td>-0.212301</td>\n",
       "      <td>-0.346536</td>\n",
       "      <td>0.306029</td>\n",
       "      <td>-1.098735</td>\n",
       "      <td>-0.575311</td>\n",
       "      <td>2.383515</td>\n",
       "      <td>-0.210371</td>\n",
       "      <td>-0.503738</td>\n",
       "      <td>-0.347806</td>\n",
       "      <td>0.257684</td>\n",
       "    </tr>\n",
       "    <tr>\n",
       "      <th>1</th>\n",
       "      <td>0.766582</td>\n",
       "      <td>0.721189</td>\n",
       "      <td>0.478989</td>\n",
       "      <td>0.592553</td>\n",
       "      <td>-1.098735</td>\n",
       "      <td>-0.563941</td>\n",
       "      <td>0.121852</td>\n",
       "      <td>-0.210371</td>\n",
       "      <td>3.652083</td>\n",
       "      <td>0.475129</td>\n",
       "      <td>0.296411</td>\n",
       "    </tr>\n",
       "    <tr>\n",
       "      <th>2</th>\n",
       "      <td>-0.780600</td>\n",
       "      <td>-0.840611</td>\n",
       "      <td>0.203814</td>\n",
       "      <td>-1.362456</td>\n",
       "      <td>0.910138</td>\n",
       "      <td>-0.063678</td>\n",
       "      <td>1.076224</td>\n",
       "      <td>-0.210311</td>\n",
       "      <td>-0.553212</td>\n",
       "      <td>0.453243</td>\n",
       "      <td>-1.647937</td>\n",
       "    </tr>\n",
       "    <tr>\n",
       "      <th>3</th>\n",
       "      <td>0.110872</td>\n",
       "      <td>0.092878</td>\n",
       "      <td>1.029339</td>\n",
       "      <td>-0.153773</td>\n",
       "      <td>0.910138</td>\n",
       "      <td>-0.634226</td>\n",
       "      <td>-0.392615</td>\n",
       "      <td>-0.210371</td>\n",
       "      <td>0.591759</td>\n",
       "      <td>0.238754</td>\n",
       "      <td>0.200576</td>\n",
       "    </tr>\n",
       "    <tr>\n",
       "      <th>4</th>\n",
       "      <td>0.840257</td>\n",
       "      <td>0.745124</td>\n",
       "      <td>1.304514</td>\n",
       "      <td>0.055266</td>\n",
       "      <td>-1.098735</td>\n",
       "      <td>-0.318977</td>\n",
       "      <td>0.643774</td>\n",
       "      <td>-0.210371</td>\n",
       "      <td>1.538834</td>\n",
       "      <td>1.048557</td>\n",
       "      <td>-0.836100</td>\n",
       "    </tr>\n",
       "  </tbody>\n",
       "</table>\n",
       "</div>"
      ],
      "text/plain": [
       "   danceability    energy       key  loudness      mode  speechiness  \\\n",
       "0     -0.721659 -0.212301 -0.346536  0.306029 -1.098735    -0.575311   \n",
       "1      0.766582  0.721189  0.478989  0.592553 -1.098735    -0.563941   \n",
       "2     -0.780600 -0.840611  0.203814 -1.362456  0.910138    -0.063678   \n",
       "3      0.110872  0.092878  1.029339 -0.153773  0.910138    -0.634226   \n",
       "4      0.840257  0.745124  1.304514  0.055266 -1.098735    -0.318977   \n",
       "\n",
       "   acousticness  instrumentalness  liveness   valence     tempo  \n",
       "0      2.383515         -0.210371 -0.503738 -0.347806  0.257684  \n",
       "1      0.121852         -0.210371  3.652083  0.475129  0.296411  \n",
       "2      1.076224         -0.210311 -0.553212  0.453243 -1.647937  \n",
       "3     -0.392615         -0.210371  0.591759  0.238754  0.200576  \n",
       "4      0.643774         -0.210371  1.538834  1.048557 -0.836100  "
      ]
     },
     "execution_count": 51,
     "metadata": {},
     "output_type": "execute_result"
    }
   ],
   "source": [
    "X_scaled.head()"
   ]
  },
  {
   "cell_type": "code",
   "execution_count": null,
   "metadata": {},
   "outputs": [],
   "source": []
  },
  {
   "cell_type": "code",
   "execution_count": 52,
   "metadata": {},
   "outputs": [
    {
     "data": {
      "text/plain": [
       "Text(0.5, 1.0, 'Elbow Method showing the optimal k within [2, 3, 4, 5, 6, 7, 8, 9, 10, 11, 12, 13, 14, 15, 16, 17, 18, 19]')"
      ]
     },
     "execution_count": 52,
     "metadata": {},
     "output_type": "execute_result"
    },
    {
     "data": {
      "image/png": "[encoded data removed]",
      "text/plain": [
       "<Figure size 1152x576 with 1 Axes>"
      ]
     },
     "metadata": {
      "needs_background": "light"
     },
     "output_type": "display_data"
    }
   ],
   "source": [
    "from sklearn.cluster import KMeans\n",
    "\n",
    "K = range(2,20)\n",
    "inertias = []\n",
    "\n",
    "for k in K:\n",
    "    kmeans = KMeans(n_clusters=k,\n",
    "                    random_state=1234,\n",
    "                   )\n",
    "    kmeans.fit(X_scaled)\n",
    "    inertias.append(kmeans.inertia_)\n",
    "    \n",
    "import matplotlib.pyplot as plt\n",
    "\n",
    "plt.figure(figsize=(16,8))\n",
    "plt.plot(K, inertias, 'bx-')\n",
    "plt.xlabel('k')\n",
    "plt.ylabel('inertia')\n",
    "plt.xticks(np.arange(min(K), max(K)+1, 1.0))\n",
    "plt.title(f'Elbow Method showing the optimal k within {list(K)}')\n",
    "\n"
   ]
  },
  {
   "cell_type": "code",
   "execution_count": 58,
   "metadata": {},
   "outputs": [
    {
     "data": {
      "image/png": "[encoded data removed]",
      "text/plain": [
       "<Figure size 1080x864 with 8 Axes>"
      ]
     },
     "metadata": {},
     "output_type": "display_data"
    }
   ],
   "source": [
    "from yellowbrick.cluster import SilhouetteVisualizer\n",
    "\n",
    "fig, ax = plt.subplots(4, 2, figsize=(15,12))\n",
    "for k in [2, 3, 4, 5, 6, 7, 8, 9]:\n",
    "    '''\n",
    "    Create KMeans instance for different number of clusters\n",
    "    '''\n",
    "    km = KMeans(n_clusters=k,\n",
    "                random_state=1234)\n",
    "    q, mod = divmod(k, 2)\n",
    "    '''\n",
    "    Create SilhouetteVisualizer instance with KMeans instance\n",
    "    Fit the visualizer\n",
    "    '''\n",
    "    \n",
    "    visualizer = SilhouetteVisualizer(km, colors='yellowbrick', ax=ax[q-1][mod])\n",
    "    visualizer.fit(X_scaled)"
   ]
  },
  {
   "cell_type": "markdown",
   "metadata": {},
   "source": [
    "decided for 4 clusters"
   ]
  },
  {
   "cell_type": "code",
   "execution_count": 60,
   "metadata": {},
   "outputs": [],
   "source": [
    "kmeans = KMeans(n_clusters=7,\n",
    "               random_state=1234)\n",
    "\n",
    "kmeans.fit(X_scaled)\n",
    "\n",
    "clusters = kmeans.predict(X_scaled)\n",
    "\n",
    "\n",
    "X_clustered = X_scaled.copy()\n",
    "X_clustered['cluster_id'] = clusters"
   ]
  },
  {
   "cell_type": "code",
   "execution_count": 62,
   "metadata": {},
   "outputs": [
    {
     "data": {
      "text/html": [
       "<div>\n",
       "<style scoped>\n",
       "    .dataframe tbody tr th:only-of-type {\n",
       "        vertical-align: middle;\n",
       "    }\n",
       "\n",
       "    .dataframe tbody tr th {\n",
       "        vertical-align: top;\n",
       "    }\n",
       "\n",
       "    .dataframe thead th {\n",
       "        text-align: right;\n",
       "    }\n",
       "</style>\n",
       "<table border=\"1\" class=\"dataframe\">\n",
       "  <thead>\n",
       "    <tr style=\"text-align: right;\">\n",
       "      <th></th>\n",
       "      <th>danceability</th>\n",
       "      <th>energy</th>\n",
       "      <th>key</th>\n",
       "      <th>loudness</th>\n",
       "      <th>mode</th>\n",
       "      <th>speechiness</th>\n",
       "      <th>acousticness</th>\n",
       "      <th>instrumentalness</th>\n",
       "      <th>liveness</th>\n",
       "      <th>valence</th>\n",
       "      <th>tempo</th>\n",
       "      <th>cluster_id</th>\n",
       "    </tr>\n",
       "  </thead>\n",
       "  <tbody>\n",
       "    <tr>\n",
       "      <th>0</th>\n",
       "      <td>-0.721659</td>\n",
       "      <td>-0.212301</td>\n",
       "      <td>-0.346536</td>\n",
       "      <td>0.306029</td>\n",
       "      <td>-1.098735</td>\n",
       "      <td>-0.575311</td>\n",
       "      <td>2.383515</td>\n",
       "      <td>-0.210371</td>\n",
       "      <td>-0.503738</td>\n",
       "      <td>-0.347806</td>\n",
       "      <td>0.257684</td>\n",
       "      <td>0</td>\n",
       "    </tr>\n",
       "    <tr>\n",
       "      <th>1</th>\n",
       "      <td>0.766582</td>\n",
       "      <td>0.721189</td>\n",
       "      <td>0.478989</td>\n",
       "      <td>0.592553</td>\n",
       "      <td>-1.098735</td>\n",
       "      <td>-0.563941</td>\n",
       "      <td>0.121852</td>\n",
       "      <td>-0.210371</td>\n",
       "      <td>3.652083</td>\n",
       "      <td>0.475129</td>\n",
       "      <td>0.296411</td>\n",
       "      <td>1</td>\n",
       "    </tr>\n",
       "    <tr>\n",
       "      <th>2</th>\n",
       "      <td>-0.780600</td>\n",
       "      <td>-0.840611</td>\n",
       "      <td>0.203814</td>\n",
       "      <td>-1.362456</td>\n",
       "      <td>0.910138</td>\n",
       "      <td>-0.063678</td>\n",
       "      <td>1.076224</td>\n",
       "      <td>-0.210311</td>\n",
       "      <td>-0.553212</td>\n",
       "      <td>0.453243</td>\n",
       "      <td>-1.647937</td>\n",
       "      <td>0</td>\n",
       "    </tr>\n",
       "    <tr>\n",
       "      <th>3</th>\n",
       "      <td>0.110872</td>\n",
       "      <td>0.092878</td>\n",
       "      <td>1.029339</td>\n",
       "      <td>-0.153773</td>\n",
       "      <td>0.910138</td>\n",
       "      <td>-0.634226</td>\n",
       "      <td>-0.392615</td>\n",
       "      <td>-0.210371</td>\n",
       "      <td>0.591759</td>\n",
       "      <td>0.238754</td>\n",
       "      <td>0.200576</td>\n",
       "      <td>2</td>\n",
       "    </tr>\n",
       "    <tr>\n",
       "      <th>4</th>\n",
       "      <td>0.840257</td>\n",
       "      <td>0.745124</td>\n",
       "      <td>1.304514</td>\n",
       "      <td>0.055266</td>\n",
       "      <td>-1.098735</td>\n",
       "      <td>-0.318977</td>\n",
       "      <td>0.643774</td>\n",
       "      <td>-0.210371</td>\n",
       "      <td>1.538834</td>\n",
       "      <td>1.048557</td>\n",
       "      <td>-0.836100</td>\n",
       "      <td>5</td>\n",
       "    </tr>\n",
       "  </tbody>\n",
       "</table>\n",
       "</div>"
      ],
      "text/plain": [
       "   danceability    energy       key  loudness      mode  speechiness  \\\n",
       "0     -0.721659 -0.212301 -0.346536  0.306029 -1.098735    -0.575311   \n",
       "1      0.766582  0.721189  0.478989  0.592553 -1.098735    -0.563941   \n",
       "2     -0.780600 -0.840611  0.203814 -1.362456  0.910138    -0.063678   \n",
       "3      0.110872  0.092878  1.029339 -0.153773  0.910138    -0.634226   \n",
       "4      0.840257  0.745124  1.304514  0.055266 -1.098735    -0.318977   \n",
       "\n",
       "   acousticness  instrumentalness  liveness   valence     tempo  cluster_id  \n",
       "0      2.383515         -0.210371 -0.503738 -0.347806  0.257684           0  \n",
       "1      0.121852         -0.210371  3.652083  0.475129  0.296411           1  \n",
       "2      1.076224         -0.210311 -0.553212  0.453243 -1.647937           0  \n",
       "3     -0.392615         -0.210371  0.591759  0.238754  0.200576           2  \n",
       "4      0.643774         -0.210371  1.538834  1.048557 -0.836100           5  "
      ]
     },
     "execution_count": 62,
     "metadata": {},
     "output_type": "execute_result"
    }
   ],
   "source": [
    "X_clustered.head()"
   ]
  },
  {
   "cell_type": "code",
   "execution_count": null,
   "metadata": {},
   "outputs": [],
   "source": []
  },
  {
   "cell_type": "code",
   "execution_count": 63,
   "metadata": {},
   "outputs": [],
   "source": [
    "def hot_recommender():\n",
    "    # import scraping function & random int generator\n",
    "    from scrape_functions import scrape_billboard\n",
    "    from random import randint\n",
    "    \n",
    "    # scrape billboard hot 100\n",
    "    billboard = scrape_billboard()\n",
    "    \n",
    "    # ask for song\n",
    "    song = input(\"What song do you like? \")\n",
    "    \n",
    "    # check if song is on billboard hot 100\n",
    "    song_row = billboard[billboard[\"song\"].str.contains(song)]\n",
    "    if len(song_row) == 0:\n",
    "        print(\"Your song is not hot\")\n",
    "    else:\n",
    "        check_song = input(\"Did you mean \" + song_row[\"song\"].values[0] + \" by \" + song_row[\"artist\"].values[0] + \"? \")    \n",
    "    \n",
    "        # if song is in billboard hot 100, recommend another random hot song\n",
    "        if check_song == \"yes\":\n",
    "            print(\"That's a hot song.\")\n",
    "            random_song = randint(0, len(billboard)-1)\n",
    "            print(\"You might also like \" + billboard[\"song\"][random_song] + \" by \" + billboard[\"artist\"][random_song])\n",
    "        else:\n",
    "            print(\"Ah, not the one I had in mind.\")\n"
   ]
  },
  {
   "cell_type": "code",
   "execution_count": 64,
   "metadata": {},
   "outputs": [
    {
     "name": "stdout",
     "output_type": "stream",
     "text": [
      "What song do you like? blue\n",
      "Your song is not hot\n"
     ]
    }
   ],
   "source": [
    "hot_recommender()"
   ]
  }
 ],
 "metadata": {
  "kernelspec": {
   "display_name": "Python 3",
   "language": "python",
   "name": "python3"
  },
  "language_info": {
   "codemirror_mode": {
    "name": "ipython",
    "version": 3
   },
   "file_extension": ".py",
   "mimetype": "text/x-python",
   "name": "python",
   "nbconvert_exporter": "python",
   "pygments_lexer": "ipython3",
   "version": "3.8.6"
  }
 },
 "nbformat": 4,
 "nbformat_minor": 4
}
